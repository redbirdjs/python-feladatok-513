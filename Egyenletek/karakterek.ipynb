{
 "cells": [
  {
   "cell_type": "code",
   "execution_count": 14,
   "metadata": {},
   "outputs": [
    {
     "name": "stdout",
     "output_type": "stream",
     "text": [
      "KPD-993\n"
     ]
    }
   ],
   "source": [
    "import random\n",
    "\n",
    "rendszam = \"\"\n",
    "\n",
    "for _ in range(0, 3):\n",
    "    betu = random.randint(65, 90)\n",
    "    rendszam += chr(betu)\n",
    "rendszam += \"-\"\n",
    "for _ in range(0, 3):\n",
    "    szam = random.randint(0, 9)\n",
    "    rendszam += str(szam)\n",
    "print(rendszam)\n"
   ]
  },
  {
   "cell_type": "code",
   "execution_count": 2,
   "metadata": {},
   "outputs": [
    {
     "name": "stdout",
     "output_type": "stream",
     "text": [
      "A két szám közti karakterek: \n",
      "  ! \" # $ % & ' ( ) * + , - . / 0 1 2 3 4 5 6 7 "
     ]
    }
   ],
   "source": [
    "szam1 = int(input(\"Kérek egy számot 32-255 közt: \"))\n",
    "szam2 = int(input(\"Kérek egy számot 32-255 közt: \"))\n",
    "\n",
    "if szam1 > szam2:\n",
    "    [szam1, szam2] = [szam2, szam1]\n",
    "\n",
    "print(\"A két szám közti karakterek: \")\n",
    "for i in range(szam1, szam2+1):\n",
    "    print(chr(i), end=\" \")"
   ]
  },
  {
   "cell_type": "code",
   "execution_count": 13,
   "metadata": {},
   "outputs": [
    {
     "name": "stdout",
     "output_type": "stream",
     "text": [
      " \t!\t\"\t#\t$\t%\t&\t'\t(\t)\t\n",
      "*\t+\t,\t-\t.\t/\t0\t1\t2\t3\t\n",
      "4\t5\t6\t7\t8\t9\t:\t;\t<\t=\t\n",
      ">\t?\t@\tA\tB\tC\tD\tE\tF\tG\t\n",
      "H\tI\tJ\tK\tL\tM\tN\tO\tP\tQ\t\n",
      "R\tS\tT\tU\tV\tW\tX\tY\tZ\t[\t\n",
      "\\\t]\t^\t_\t`\ta\tb\tc\td\te\t\n",
      "f\tg\th\ti\tj\tk\tl\tm\tn\to\t\n",
      "p\tq\tr\ts\tt\tu\tv\tw\tx\ty\t\n",
      "z\t{\t|\t}\t~\t\t\t\t\t\t\n",
      "\t\t\t\t\t\t\t\t\t\t\n",
      "\t\t\t\t\t\t\t\t\t\t\n",
      "\t\t\t\t\t\t\t\t \t¡\t\n",
      "¢\t£\t¤\t¥\t¦\t§\t¨\t©\tª\t«\t\n",
      "¬\t­\t®\t¯\t°\t±\t²\t³\t´\tµ\t\n",
      "¶\t·\t¸\t¹\tº\t»\t¼\t½\t¾\t¿\t\n",
      "À\tÁ\tÂ\tÃ\tÄ\tÅ\tÆ\tÇ\tÈ\tÉ\t\n",
      "Ê\tË\tÌ\tÍ\tÎ\tÏ\tÐ\tÑ\tÒ\tÓ\t\n",
      "Ô\tÕ\tÖ\t×\tØ\tÙ\tÚ\tÛ\tÜ\tÝ\t\n",
      "Þ\tß\tà\tá\tâ\tã\tä\tå\tæ\tç\t\n",
      "è\té\tê\të\tì\tí\tî\tï\tð\tñ\t\n",
      "ò\tó\tô\tõ\tö\t÷\tø\tù\tú\tû\t\n",
      "ü\tý\tþ\tÿ\t"
     ]
    }
   ],
   "source": [
    "for i in range(32, 256):\n",
    "    if ((i-32) % 10 == 0 and (i-32) != 0): print(\"\")\n",
    "    print(chr(i), end=\"\\t\")"
   ]
  },
  {
   "cell_type": "code",
   "execution_count": 15,
   "metadata": {},
   "outputs": [
    {
     "name": "stdout",
     "output_type": "stream",
     "text": [
      "65 110 97 115 122 116 225 122 105 97 "
     ]
    }
   ],
   "source": [
    "nev = input(\"Add meg neved: \")\n",
    "\n",
    "for i in nev:\n",
    "    print(ord(i), end=\" \")"
   ]
  }
 ],
 "metadata": {
  "interpreter": {
   "hash": "9650cb4e16cdd4a8e8e2d128bf38d875813998db22a3c986335f89e0cb4d7bb2"
  },
  "kernelspec": {
   "display_name": "Python 3.8.5 64-bit",
   "language": "python",
   "name": "python3"
  },
  "language_info": {
   "codemirror_mode": {
    "name": "ipython",
    "version": 3
   },
   "file_extension": ".py",
   "mimetype": "text/x-python",
   "name": "python",
   "nbconvert_exporter": "python",
   "pygments_lexer": "ipython3",
   "version": "3.8.5"
  },
  "orig_nbformat": 4
 },
 "nbformat": 4,
 "nbformat_minor": 2
}
